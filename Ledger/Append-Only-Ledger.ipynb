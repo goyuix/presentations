{
    "metadata": {
        "kernelspec": {
            "name": "SQL",
            "display_name": "SQL",
            "language": "sql"
        },
        "language_info": {
            "name": "sql",
            "version": ""
        }
    },
    "nbformat_minor": 2,
    "nbformat": 4,
    "cells": [
        {
            "cell_type": "code",
            "source": [
                "CREATE SCHEMA [AccessControl] "
            ],
            "metadata": {
                "azdata_cell_guid": "99cc2524-e5e5-4d28-9b5b-a2a01b46a9a2"
            },
            "outputs": [],
            "execution_count": null
        },
        {
            "cell_type": "code",
            "source": [
                "CREATE TABLE [AccessControl].[KeyCardEvents]\r\n",
                "(\r\n",
                "    [EmployeeID] INT NOT NULL,\r\n",
                "    [AccessOperationDescription] NVARCHAR (MAX) NOT NULL,\r\n",
                "    [Timestamp] Datetime2 NOT NULL\r\n",
                ")\r\n",
                "WITH ( LEDGER = ON ( APPEND_ONLY = ON ));"
            ],
            "metadata": {
                "azdata_cell_guid": "1f3449bc-bea8-4a7c-835a-0dba0a631842",
                "tags": []
            },
            "outputs": [],
            "execution_count": null
        },
        {
            "cell_type": "code",
            "source": [
                "INSERT INTO [AccessControl].[KeyCardEvents]\r\n",
                "VALUES ('12345', 'UTSQL-007', SYSDATETIME())"
            ],
            "metadata": {
                "azdata_cell_guid": "48b0644a-ef96-45bd-a3c0-a44bde00252c"
            },
            "outputs": [],
            "execution_count": null
        },
        {
            "cell_type": "code",
            "source": [
                "SELECT *\r\n",
                "     ,[ledger_start_transaction_id]\r\n",
                "     ,[ledger_start_sequence_number]\r\n",
                "FROM [AccessControl].[KeyCardEvents]"
            ],
            "metadata": {
                "azdata_cell_guid": "5131171d-7cfe-4afc-b7ff-72cf306efe05"
            },
            "outputs": [],
            "execution_count": null
        },
        {
            "cell_type": "code",
            "source": [
                "-- Note: this update will fail due to aooend-only ledger\r\n",
                "UPDATE [AccessControl].[KeyCardEvents] SET [EmployeeID] = 12345"
            ],
            "metadata": {
                "azdata_cell_guid": "c63c3656-2256-4d61-bd02-d69f41c36750"
            },
            "outputs": [],
            "execution_count": null
        },
        {
            "cell_type": "code",
            "source": [
                "DECLARE @digest_locations NVARCHAR(MAX) = (SELECT * FROM sys.database_ledger_digest_locations FOR JSON AUTO, INCLUDE_NULL_VALUES);\r\n",
                "SELECT @digest_locations as digest_locations;\r\n",
                "BEGIN TRY\r\n",
                "    EXEC sys.sp_verify_database_ledger_from_digest_storage @digest_locations;\r\n",
                "SELECT 'Ledger verification succeeded.' AS Result;\r\n",
                "END TRY\r\n",
                "BEGIN CATCH\r\n",
                "    THROW;\r\n",
                "END CATCH"
            ],
            "metadata": {
                "azdata_cell_guid": "4c738e12-a26e-4049-94d1-792192955064"
            },
            "outputs": [],
            "execution_count": null
        }
    ]
}