{
    "metadata": {
        "kernelspec": {
            "name": "SQL",
            "display_name": "SQL",
            "language": "sql"
        },
        "language_info": {
            "name": "sql",
            "version": ""
        }
    },
    "nbformat_minor": 2,
    "nbformat": 4,
    "cells": [
        {
            "cell_type": "code",
            "source": [
                "CREATE SCHEMA [Account]"
            ],
            "metadata": {
                "azdata_cell_guid": "c5a34ab1-c88e-4471-b98b-45b90ffe5a6b"
            },
            "outputs": [],
            "execution_count": null
        },
        {
            "cell_type": "code",
            "source": [
                "CREATE TABLE [Account].[Balance]\r\n",
                "(\r\n",
                "    [CustomerID] INT NOT NULL PRIMARY KEY CLUSTERED,\r\n",
                "    [LastName] VARCHAR (50) NOT NULL,\r\n",
                "    [FirstName] VARCHAR (50) NOT NULL,\r\n",
                "    [Balance] DECIMAL (10,2) NOT NULL\r\n",
                ")\r\n",
                "WITH \r\n",
                "(\r\n",
                " LEDGER = ON,\r\n",
                " SYSTEM_VERSIONING = ON\r\n",
                ");"
            ],
            "metadata": {
                "azdata_cell_guid": "4bf88c5b-c5b9-405c-b166-7f9f7d4ed2d6"
            },
            "outputs": [],
            "execution_count": null
        },
        {
            "cell_type": "code",
            "source": [
                "SELECT * \r\n",
                "      ,[ledger_start_transaction_id]\r\n",
                "      ,[ledger_end_transaction_id]\r\n",
                "      ,[ledger_start_sequence_number]\r\n",
                "      ,[ledger_end_sequence_number]\r\n",
                "FROM [Account].[Balance] "
            ],
            "metadata": {
                "azdata_cell_guid": "800c13c2-8bd5-45f7-ac4f-4e87d47c30e0"
            },
            "outputs": [],
            "execution_count": null
        },
        {
            "cell_type": "code",
            "source": [
                "INSERT INTO [Account].[Balance]\r\n",
                "VALUES (1, 'McMurray', 'Greg', 100)"
            ],
            "metadata": {
                "azdata_cell_guid": "0ab2118e-87fb-4645-a26c-99652bd8b763"
            },
            "outputs": [],
            "execution_count": null
        },
        {
            "cell_type": "code",
            "source": [
                "INSERT INTO [Account].[Balance]\r\n",
                "VALUES (2, 'Miller', 'Ben', 1000)"
            ],
            "metadata": {
                "azdata_cell_guid": "c413d47c-6654-4919-92b1-c0000abaeaaa",
                "tags": []
            },
            "outputs": [],
            "execution_count": null
        },
        {
            "cell_type": "code",
            "source": [
                "INSERT INTO [Account].[Balance]\r\n",
                "VALUES (3, 'Belt', 'TJay', 10)"
            ],
            "metadata": {
                "azdata_cell_guid": "5a928ad0-8c3b-4b83-ae72-7a756d3bf4b3"
            },
            "outputs": [],
            "execution_count": null
        }
    ]
}